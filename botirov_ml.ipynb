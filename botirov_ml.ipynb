{
 "cells": [
  {
   "cell_type": "markdown",
   "id": "00c88215",
   "metadata": {},
   "source": [
    "# Predictive ML Project  \n",
    "**Author:** Bakhrom Botirov  \n",
    "[GitHub Repository](https://github.com/batyrovbahrom96-svg/datafun-07-ml)"
   ]
  },
  {
   "cell_type": "code",
   "execution_count": null,
   "id": "6250cd20",
   "metadata": {
    "vscode": {
     "languageId": "plaintext"
    }
   },
   "outputs": [],
   "source": [
    "import pandas as pd\n",
    "import numpy as np\n",
    "from scipy import stats\n",
    "import matplotlib.pyplot as plt\n",
    "import seaborn as sns\n",
    "from sklearn.model_selection import train_test_split\n",
    "from sklearn.linear_model import LinearRegression"
   ]
  }
 ],
 "metadata": {
  "language_info": {
   "name": "python"
  }
 },
 "nbformat": 4,
 "nbformat_minor": 5
}
